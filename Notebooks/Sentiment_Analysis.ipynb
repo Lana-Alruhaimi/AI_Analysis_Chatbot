{
 "cells": [
  {
   "cell_type": "code",
   "execution_count": null,
   "id": "aa5b2002",
   "metadata": {},
   "outputs": [],
   "source": [
    "import pandas as pd\n",
    "from groq import Groq\n",
    "import plotly.express as px\n",
    "import os\n"
   ]
  },
  {
   "cell_type": "code",
   "execution_count": null,
   "id": "70b3dfe2",
   "metadata": {},
   "outputs": [
    {
     "name": "stdout",
     "output_type": "stream",
     "text": [
      "Data file expected at: ..\\Data\\cleaned_sales_data.pkl\n"
     ]
    }
   ],
   "source": [
    "## File paths/directories\n",
    "\n",
    "Input_Dir = os.path.join('..', 'Data')\n",
    "Input_Path = os.path.join(Input_Dir, 'cleaned_sales_data.pkl')\n",
    "Output_Path = os.path.join(Input_Dir, 'analyzed_sales_data.pkl')\n",
    "\n",
    "print(f\"Data file expected at: {Input_Path}\") #not excel because this is the cleaned data"
   ]
  },
  {
   "cell_type": "code",
   "execution_count": 6,
   "id": "89d92fbf",
   "metadata": {},
   "outputs": [
    {
     "name": "stdout",
     "output_type": "stream",
     "text": [
      "Successfully loaded 1465 records from 'cleaned_sales_data.pkl'.\n",
      "Using new column: Customer_Feedback\n"
     ]
    }
   ],
   "source": [
    "## Load data\n",
    "try:\n",
    "    df = pd.read_pickle(Input_Path)\n",
    "    print(f\"Successfully loaded {len(df)} records from 'cleaned_sales_data.pkl'.\")\n",
    "except FileNotFoundError:\n",
    "    print(f\"Error: '{Input_Path}' not found. Run (Data_Analysis_Cleaning.ipynb) first.\")\n",
    "    exit()\n",
    "\n",
    "New_Col = 'Customer_Feedback' #engineered in (Data_Analysis_Cleaning.ipynb)\n",
    "print(f\"Using new column: {New_Col}\")\n"
   ]
  },
  {
   "cell_type": "code",
   "execution_count": null,
   "id": "a832d3e4",
   "metadata": {},
   "outputs": [],
   "source": [
    "## Load and run Sentiment Model\n",
    "\n"
   ]
  }
 ],
 "metadata": {
  "kernelspec": {
   "display_name": "llm_env",
   "language": "python",
   "name": "python3"
  },
  "language_info": {
   "codemirror_mode": {
    "name": "ipython",
    "version": 3
   },
   "file_extension": ".py",
   "mimetype": "text/x-python",
   "name": "python",
   "nbconvert_exporter": "python",
   "pygments_lexer": "ipython3",
   "version": "3.10.18"
  }
 },
 "nbformat": 4,
 "nbformat_minor": 5
}
