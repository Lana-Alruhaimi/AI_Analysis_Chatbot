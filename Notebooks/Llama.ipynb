{
 "cells": [
  {
   "cell_type": "code",
   "execution_count": 1,
   "id": "e08a1174",
   "metadata": {},
   "outputs": [],
   "source": [
    "import torch\n",
    "from transformers import AutoModelForCausalLM, AutoTokenizer, BitsAndBytesConfig"
   ]
  },
  {
   "cell_type": "code",
   "execution_count": 2,
   "id": "b1451969",
   "metadata": {},
   "outputs": [],
   "source": [
    "model_id = \"meta-llama/Meta-Llama-3.1-8B-Instruct\" #define model id"
   ]
  },
  {
   "cell_type": "code",
   "execution_count": null,
   "id": "515a0e71",
   "metadata": {},
   "outputs": [],
   "source": [
    "bnb_config = BitsAndBytesConfig( #tells model how to compress and handle weights\n",
    "    load_in_4bit=True, #loads weights in 4 bit integer format (instead of 16 or 32 bits) to reduce memory footprint\n",
    "    bnb_4bit_quant_type=\"nf4\", #use normal 4 bit (n=normal, f=float, 4=4bit)\n",
    "    bnb_4bit_compute_dtype=torch.bfloat16\n",
    ")"
   ]
  }
 ],
 "metadata": {
  "kernelspec": {
   "display_name": "llm_env",
   "language": "python",
   "name": "python3"
  },
  "language_info": {
   "codemirror_mode": {
    "name": "ipython",
    "version": 3
   },
   "file_extension": ".py",
   "mimetype": "text/x-python",
   "name": "python",
   "nbconvert_exporter": "python",
   "pygments_lexer": "ipython3",
   "version": "3.10.18"
  }
 },
 "nbformat": 4,
 "nbformat_minor": 5
}
