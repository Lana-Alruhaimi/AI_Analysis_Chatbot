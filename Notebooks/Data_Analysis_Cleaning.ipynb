{
 "cells": [
  {
   "cell_type": "code",
   "execution_count": 1,
   "id": "287f6a9b",
   "metadata": {},
   "outputs": [],
   "source": [
    "import pandas as pd\n",
    "import numpy as np\n",
    "import plotly.express as px\n",
    "import os #deal with directories and can work on all OS"
   ]
  },
  {
   "cell_type": "code",
   "execution_count": null,
   "id": "6afbe321",
   "metadata": {},
   "outputs": [],
   "source": [
    "## Path definitions\n",
    "PROJECT_ROOT = os.path.join(os.getcwd(), '..') #Main file (in this case \"AI_Analysis_and_Chatbot\")\n",
    "EXCEL_FILE_PATH = os.path.join(PROJECT_ROOT, 'Data', 'amazon_product_reviews.xlsx') #gets path with file name and folder"
   ]
  },
  {
   "cell_type": "code",
   "execution_count": null,
   "id": "e79e44b5",
   "metadata": {},
   "outputs": [
    {
     "ename": "SyntaxError",
     "evalue": "incomplete input (2877722192.py, line 5)",
     "output_type": "error",
     "traceback": [
      "\u001b[1;36m  Cell \u001b[1;32mIn[5], line 5\u001b[1;36m\u001b[0m\n\u001b[1;33m    .str.replace('â‚¹', '', regex=False)\u001b[0m\n\u001b[1;37m                                        ^\u001b[0m\n\u001b[1;31mSyntaxError\u001b[0m\u001b[1;31m:\u001b[0m incomplete input\n"
     ]
    }
   ],
   "source": [
    "## Data cleaning\n",
    "def clean_num (series): #remove symbols from numbers and and convert to float\n",
    "    if series.dtype == 'object': #when reading it appears as text (so we dont take numbers without symbols)\n",
    "        return (series.astype(str) #cast to string for consistency\n",
    "                      .str.replace('â‚¹', '', regex=False) #delete symbol (replace with empty string)\n",
    "                      .str.replace(',', '', regex=False) #so they can be dealt with as floats/ints not strings\n",
    "                      .str.replace('%', '', regex=False)\n",
    "                      .str.strip() #remove spaces before/after string\n",
    "                      .astype(float, errors='coerce')) # Convert to float, turns errors (like empty strings) to NaN\n",
    "    return series"
   ]
  },
  {
   "cell_type": "code",
   "execution_count": null,
   "id": "ff2c7e60",
   "metadata": {},
   "outputs": [],
   "source": []
  }
 ],
 "metadata": {
  "kernelspec": {
   "display_name": "llm_env",
   "language": "python",
   "name": "python3"
  },
  "language_info": {
   "codemirror_mode": {
    "name": "ipython",
    "version": 3
   },
   "file_extension": ".py",
   "mimetype": "text/x-python",
   "name": "python",
   "nbconvert_exporter": "python",
   "pygments_lexer": "ipython3",
   "version": "3.10.18"
  }
 },
 "nbformat": 4,
 "nbformat_minor": 5
}
