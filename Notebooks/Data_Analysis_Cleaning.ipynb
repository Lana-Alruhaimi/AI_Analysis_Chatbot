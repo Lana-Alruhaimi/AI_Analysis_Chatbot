{
 "cells": [
  {
   "cell_type": "code",
   "execution_count": 1,
   "id": "287f6a9b",
   "metadata": {},
   "outputs": [],
   "source": [
    "import pandas as pd\n",
    "import numpy as np\n",
    "import plotly.express as px\n",
    "import os #deal with directories and can work on all OS"
   ]
  },
  {
   "cell_type": "code",
   "execution_count": null,
   "id": "6afbe321",
   "metadata": {},
   "outputs": [],
   "source": [
    "## Path definitions\n",
    "PROJECT_ROOT = os.path.join(os.getcwd(), '..') #Main file (in this case \"AI_Analysis_and_Chatbot\")\n",
    "EXCEL_FILE_PATH = os.path.join(PROJECT_ROOT, 'Data', 'amazon_product_reviews.xlsx') #gets path with file name and folder"
   ]
  },
  {
   "cell_type": "code",
   "execution_count": 15,
   "id": "e79e44b5",
   "metadata": {},
   "outputs": [],
   "source": [
    "## Data cleaning functions\n",
    "\n",
    "# Cleaning numbers\n",
    "def clean_num (series): #remove symbols from numbers and and convert to float\n",
    "    if series.dtype == 'object': #when reading it appears as text (so we dont take numbers without symbols)\n",
    "        cleaned_series = (series.astype(str) #cast to string for consistency\n",
    "                      .str.replace('â‚¹', '', regex=False) #delete symbol (replace with empty string)\n",
    "                      .str.replace(',', '', regex=False) #so they can be dealt with as floats/ints not strings\n",
    "                      .str.replace('%', '', regex=False)\n",
    "                      .str.strip()) #remove spaces before/after string\n",
    "        return pd.to_numeric(cleaned_series, errors='coerce')\n",
    "    return series\n",
    "\n",
    "# Cleaning text\n",
    "def clean_txt(series):\n",
    "    if series.dtype == 'object':\n",
    "        return (series.astype(str)\n",
    "                .str.replace(r'[ã€\\s?\\[?\\u200b\\ufeff\\u00a0\\u201d\\u201c\\u2013\\u2022âœ“â€¢â˜…ã€‘]', '', regex=True) #remove symbols\n",
    "                .str.strip()\n",
    "                .str.replace(r'\\s+', ' ', regex=True) #replace multispace with one space\n",
    "                )\n",
    "    return series"
   ]
  },
  {
   "cell_type": "code",
   "execution_count": 16,
   "id": "ff2c7e60",
   "metadata": {},
   "outputs": [
    {
     "name": "stdout",
     "output_type": "stream",
     "text": [
      "Successfully loaded 1465 records.\n"
     ]
    }
   ],
   "source": [
    "## Data Reading\n",
    "\n",
    "try:\n",
    "    df = pd.read_excel(EXCEL_FILE_PATH, engine='openpyxl') #openpyxl is modern engine for .xlsx format\n",
    "    print(f\"Successfully loaded {len(df)} records.\") #prove file was read correctly and how many records we have\n",
    "except FileNotFoundError:\n",
    "    print(f\"ERROR: File not in {EXCEL_FILE_PATH}\")\n",
    "    exit()\n"
   ]
  },
  {
   "cell_type": "code",
   "execution_count": 23,
   "id": "56585bd0",
   "metadata": {},
   "outputs": [
    {
     "name": "stdout",
     "output_type": "stream",
     "text": [
      "Price, count, and percentage columns cleaned and converted to numeric.\n",
      "   discounted_price  actual_price  discount_percentage  rating  rating_count\n",
      "0             399.0        1099.0                 0.64     4.2       24269.0\n",
      "1             399.0        1099.0                 0.64     4.2       24269.0\n"
     ]
    }
   ],
   "source": [
    "## Data Cleaning\n",
    "\n",
    "# Divide columns so we can clean them as needed\n",
    "Num_Cols = ['discounted_price', 'actual_price', 'discount_percentage', 'rating', 'rating_count']\n",
    "Txt_Cols = ['product_name','about_product', 'user_name','review_title','review_content'] \n",
    "\n",
    "# Clean numbers\n",
    "for col in Num_Cols:\n",
    "    if col in df.columns:\n",
    "        df[col] = clean_num(df[col])\n",
    "        \n",
    "# Clean text\n",
    "for col in Txt_Cols:\n",
    "    if col in df.columns:\n",
    "        df[col] = clean_txt(df[col])\n",
    "\n",
    "print(\"Price, count, and percentage columns cleaned and converted to numeric.\")\n",
    "print(df[Num_Cols].head(2)) #test make sure it is correct\n"
   ]
  },
  {
   "cell_type": "code",
   "execution_count": 40,
   "id": "4ed37726",
   "metadata": {},
   "outputs": [
    {
     "name": "stdout",
     "output_type": "stream",
     "text": [
      "Original rows: 11503\n",
      "Rows after separating: 11503\n"
     ]
    },
    {
     "data": {
      "text/html": [
       "<div>\n",
       "<style scoped>\n",
       "    .dataframe tbody tr th:only-of-type {\n",
       "        vertical-align: middle;\n",
       "    }\n",
       "\n",
       "    .dataframe tbody tr th {\n",
       "        vertical-align: top;\n",
       "    }\n",
       "\n",
       "    .dataframe thead th {\n",
       "        text-align: right;\n",
       "    }\n",
       "</style>\n",
       "<table border=\"1\" class=\"dataframe\">\n",
       "  <thead>\n",
       "    <tr style=\"text-align: right;\">\n",
       "      <th></th>\n",
       "      <th>product_id</th>\n",
       "      <th>user_name</th>\n",
       "      <th>review_title</th>\n",
       "    </tr>\n",
       "  </thead>\n",
       "  <tbody>\n",
       "    <tr>\n",
       "      <th>0</th>\n",
       "      <td>B07JW9H4J1</td>\n",
       "      <td>Manav</td>\n",
       "      <td>Satisfied</td>\n",
       "    </tr>\n",
       "    <tr>\n",
       "      <th>1</th>\n",
       "      <td>B07JW9H4J1</td>\n",
       "      <td>Adarshgupta</td>\n",
       "      <td>Chargingisreallyfast</td>\n",
       "    </tr>\n",
       "    <tr>\n",
       "      <th>2</th>\n",
       "      <td>B07JW9H4J1</td>\n",
       "      <td>Sundeep</td>\n",
       "      <td>Valueformoney</td>\n",
       "    </tr>\n",
       "  </tbody>\n",
       "</table>\n",
       "</div>"
      ],
      "text/plain": [
       "   product_id    user_name          review_title\n",
       "0  B07JW9H4J1        Manav             Satisfied\n",
       "1  B07JW9H4J1  Adarshgupta  Chargingisreallyfast\n",
       "2  B07JW9H4J1      Sundeep         Valueformoney"
      ]
     },
     "metadata": {},
     "output_type": "display_data"
    }
   ],
   "source": [
    "## Explode (seperate each user to new row)\n",
    "Cols_to_Split = ['user_id', 'user_name', 'review_id', 'review_title', 'review_content'] #cols have multiple ',' separated values\n",
    "for col in Cols_to_Split:\n",
    "    if col in df.columns:\n",
    "        df[col] = df[col].astype(str)#.str.split(',')\n",
    "        df[col] = df[col].str.replace(r'[\\s\\W_]+', ' ', regex=True) #clean\n",
    "        df[col] = df[col].str.split(',') #split on comma\n",
    "\n",
    "Org_Rows = len(df) #duplicate rows (Org = orginal)\n",
    "df = df.explode('user_id', ignore_index=True) #pandas explode method\n",
    "df = df.reset_index(drop=True) #reset to prevent errors\n",
    "Exp_Rows = len(df) # exploded rows (Exp = exploded)\n",
    "\n",
    "print(f\"Original rows: {Org_Rows}\")\n",
    "print(f\"Rows after separating: {Exp_Rows}\")\n",
    "\n",
    "for col in Cols_to_Split: #explode rest of columns\n",
    "    if col != 'user_id' and col in df.columns:\n",
    "        Exp_Data = df[col].explode().to_list() \n",
    "        df[col] = pd.Series(Exp_Data) \n",
    "        Cleaned_Data = (df[col].astype(str) #cleaning\n",
    "                   .str.replace(r\"['\\\"\\[\\]\\\\]\", '', regex=True) #remove quotes, brackets, and slashes\n",
    "                   .str.strip()) \n",
    "        if col in ['user_name', 'review_title', 'review_content']:\n",
    "        #    Cleaned_Data = Cleaned_Data.str.replace(r'[^\\w\\s]', ' ', regex=True)\n",
    "            Cleaned_Data = Cleaned_Data.str.replace(r'([a-z])([A-Z])', r'\\1 \\2', regex=True) #insert space based on capitalization\n",
    "            Cleaned_Data = Cleaned_Data.str.replace(r'\\s+', ' ', regex=True).str.strip()\n",
    "        df[col] = Cleaned_Data\n",
    "    \n",
    "df['user_id'] = df['user_id'].astype(str).str.strip()\n",
    "display(df[['product_id','user_name','review_title']].head(3))"
   ]
  }
 ],
 "metadata": {
  "kernelspec": {
   "display_name": "llm_env",
   "language": "python",
   "name": "python3"
  },
  "language_info": {
   "codemirror_mode": {
    "name": "ipython",
    "version": 3
   },
   "file_extension": ".py",
   "mimetype": "text/x-python",
   "name": "python",
   "nbconvert_exporter": "python",
   "pygments_lexer": "ipython3",
   "version": "3.10.18"
  }
 },
 "nbformat": 4,
 "nbformat_minor": 5
}
