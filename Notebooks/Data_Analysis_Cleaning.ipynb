{
 "cells": [
  {
   "cell_type": "code",
   "execution_count": 1,
   "id": "287f6a9b",
   "metadata": {},
   "outputs": [],
   "source": [
    "import pandas as pd\n",
    "import numpy as np\n",
    "import plotly.express as px\n",
    "import os #deal with directories and can work on all OS"
   ]
  },
  {
   "cell_type": "code",
   "execution_count": null,
   "id": "6afbe321",
   "metadata": {},
   "outputs": [],
   "source": [
    "## Path definitions\n",
    "PROJECT_ROOT = os.path.join(os.getcwd(), '..') #Main file (in this case \"AI_Analysis_and_Chatbot\")\n",
    "EXCEL_FILE_PATH = os.path.join(PROJECT_ROOT, 'Data', 'amazon_product_reviews.xlsx') #gets path with file name and folder"
   ]
  },
  {
   "cell_type": "code",
   "execution_count": 15,
   "id": "e79e44b5",
   "metadata": {},
   "outputs": [],
   "source": [
    "## Data cleaning functions\n",
    "\n",
    "# Cleaning numbers\n",
    "def clean_num (series): #remove symbols from numbers and and convert to float\n",
    "    if series.dtype == 'object': #when reading it appears as text (so we dont take numbers without symbols)\n",
    "        cleaned_series = (series.astype(str) #cast to string for consistency\n",
    "                      .str.replace('â‚¹', '', regex=False) #delete symbol (replace with empty string)\n",
    "                      .str.replace(',', '', regex=False) #so they can be dealt with as floats/ints not strings\n",
    "                      .str.replace('%', '', regex=False)\n",
    "                      .str.strip()) #remove spaces before/after string\n",
    "        return pd.to_numeric(cleaned_series, errors='coerce')\n",
    "    return series\n",
    "\n",
    "# Cleaning text\n",
    "def clean_txt(series):\n",
    "    if series.dtype == 'object':\n",
    "        return (series.astype(str)\n",
    "                .str.replace(r'[ã€\\s?\\[?\\u200b\\ufeff\\u00a0\\u201d\\u201c\\u2013\\u2022âœ“â€¢â˜…ã€‘]', '', regex=True) #remove symbols\n",
    "                .str.strip()\n",
    "                .str.replace(r'\\s+', ' ', regex=True) #replace multispace with one space\n",
    "                )\n",
    "    return series"
   ]
  },
  {
   "cell_type": "code",
   "execution_count": 16,
   "id": "ff2c7e60",
   "metadata": {},
   "outputs": [
    {
     "name": "stdout",
     "output_type": "stream",
     "text": [
      "Successfully loaded 1465 records.\n"
     ]
    }
   ],
   "source": [
    "## Data Reading\n",
    "\n",
    "try:\n",
    "    df = pd.read_excel(EXCEL_FILE_PATH, engine='openpyxl') #openpyxl is modern engine for .xlsx format\n",
    "    print(f\"Successfully loaded {len(df)} records.\") #prove file was read correctly and how many records we have\n",
    "except FileNotFoundError:\n",
    "    print(f\"ERROR: File not in {EXCEL_FILE_PATH}\")\n",
    "    exit()\n"
   ]
  },
  {
   "cell_type": "code",
   "execution_count": 23,
   "id": "56585bd0",
   "metadata": {},
   "outputs": [
    {
     "name": "stdout",
     "output_type": "stream",
     "text": [
      "Price, count, and percentage columns cleaned and converted to numeric.\n",
      "   discounted_price  actual_price  discount_percentage  rating  rating_count\n",
      "0             399.0        1099.0                 0.64     4.2       24269.0\n",
      "1             399.0        1099.0                 0.64     4.2       24269.0\n"
     ]
    }
   ],
   "source": [
    "## Data Cleaning\n",
    "\n",
    "# Divide columns so we can clean them as needed\n",
    "Num_Cols = ['discounted_price', 'actual_price', 'discount_percentage', 'rating', 'rating_count']\n",
    "Txt_Cols = ['product_name','about_product', 'user_name','review_title','review_content'] \n",
    "\n",
    "# Clean numbers\n",
    "for col in Num_Cols:\n",
    "    if col in df.columns:\n",
    "        df[col] = clean_num(df[col])\n",
    "        \n",
    "# Clean text\n",
    "for col in Txt_Cols:\n",
    "    if col in df.columns:\n",
    "        df[col] = clean_txt(df[col])\n",
    "\n",
    "print(\"Price, count, and percentage columns cleaned and converted to numeric.\")\n",
    "print(df[Num_Cols].head(2)) #test make sure it is correct\n"
   ]
  },
  {
   "cell_type": "code",
   "execution_count": 40,
   "id": "4ed37726",
   "metadata": {},
   "outputs": [
    {
     "name": "stdout",
     "output_type": "stream",
     "text": [
      "Original rows: 11503\n",
      "Rows after separating: 11503\n"
     ]
    },
    {
     "data": {
      "text/html": [
       "<div>\n",
       "<style scoped>\n",
       "    .dataframe tbody tr th:only-of-type {\n",
       "        vertical-align: middle;\n",
       "    }\n",
       "\n",
       "    .dataframe tbody tr th {\n",
       "        vertical-align: top;\n",
       "    }\n",
       "\n",
       "    .dataframe thead th {\n",
       "        text-align: right;\n",
       "    }\n",
       "</style>\n",
       "<table border=\"1\" class=\"dataframe\">\n",
       "  <thead>\n",
       "    <tr style=\"text-align: right;\">\n",
       "      <th></th>\n",
       "      <th>product_id</th>\n",
       "      <th>user_name</th>\n",
       "      <th>review_title</th>\n",
       "    </tr>\n",
       "  </thead>\n",
       "  <tbody>\n",
       "    <tr>\n",
       "      <th>0</th>\n",
       "      <td>B07JW9H4J1</td>\n",
       "      <td>Manav</td>\n",
       "      <td>Satisfied</td>\n",
       "    </tr>\n",
       "    <tr>\n",
       "      <th>1</th>\n",
       "      <td>B07JW9H4J1</td>\n",
       "      <td>Adarshgupta</td>\n",
       "      <td>Chargingisreallyfast</td>\n",
       "    </tr>\n",
       "    <tr>\n",
       "      <th>2</th>\n",
       "      <td>B07JW9H4J1</td>\n",
       "      <td>Sundeep</td>\n",
       "      <td>Valueformoney</td>\n",
       "    </tr>\n",
       "  </tbody>\n",
       "</table>\n",
       "</div>"
      ],
      "text/plain": [
       "   product_id    user_name          review_title\n",
       "0  B07JW9H4J1        Manav             Satisfied\n",
       "1  B07JW9H4J1  Adarshgupta  Chargingisreallyfast\n",
       "2  B07JW9H4J1      Sundeep         Valueformoney"
      ]
     },
     "metadata": {},
     "output_type": "display_data"
    }
   ],
   "source": [
    "## Explode (seperate each user to new row)\n",
    "Cols_to_Split = ['user_id', 'user_name', 'review_id', 'review_title', 'review_content'] #cols have multiple ',' separated values\n",
    "for col in Cols_to_Split:\n",
    "    if col in df.columns:\n",
    "        df[col] = df[col].astype(str)#.str.split(',')\n",
    "        df[col] = df[col].str.replace(r'[\\s\\W_]+', ' ', regex=True) #clean\n",
    "        df[col] = df[col].str.split(',') #split on comma\n",
    "\n",
    "Org_Rows = len(df) #duplicate rows (Org = orginal)\n",
    "df = df.explode('user_id', ignore_index=True) #pandas explode method\n",
    "df = df.reset_index(drop=True) #reset to prevent errors\n",
    "Exp_Rows = len(df) # exploded rows (Exp = exploded)\n",
    "\n",
    "print(f\"Original rows: {Org_Rows}\")\n",
    "print(f\"Rows after separating: {Exp_Rows}\")\n",
    "\n",
    "for col in Cols_to_Split: #explode rest of columns\n",
    "    if col != 'user_id' and col in df.columns:\n",
    "        Exp_Data = df[col].explode().to_list() \n",
    "        df[col] = pd.Series(Exp_Data) \n",
    "        Cleaned_Data = (df[col].astype(str) #cleaning\n",
    "                   .str.replace(r\"['\\\"\\[\\]\\\\]\", '', regex=True) #remove quotes, brackets, and slashes\n",
    "                   .str.strip()) \n",
    "        if col in ['user_name', 'review_title', 'review_content']:\n",
    "        #    Cleaned_Data = Cleaned_Data.str.replace(r'[^\\w\\s]', ' ', regex=True)\n",
    "            Cleaned_Data = Cleaned_Data.str.replace(r'([a-z])([A-Z])', r'\\1 \\2', regex=True) #insert space based on capitalization\n",
    "            Cleaned_Data = Cleaned_Data.str.replace(r'\\s+', ' ', regex=True).str.strip()\n",
    "        df[col] = Cleaned_Data\n",
    "    \n",
    "df['user_id'] = df['user_id'].astype(str).str.strip()\n",
    "display(df[['product_id','user_name','review_title']].head(3))"
   ]
  },
  {
   "cell_type": "code",
   "execution_count": 52,
   "id": "11673ace",
   "metadata": {},
   "outputs": [
    {
     "name": "stdout",
     "output_type": "stream",
     "text": [
      "Top 5 rated products\n"
     ]
    },
    {
     "data": {
      "text/html": [
       "<div>\n",
       "<style scoped>\n",
       "    .dataframe tbody tr th:only-of-type {\n",
       "        vertical-align: middle;\n",
       "    }\n",
       "\n",
       "    .dataframe tbody tr th {\n",
       "        vertical-align: top;\n",
       "    }\n",
       "\n",
       "    .dataframe thead th {\n",
       "        text-align: right;\n",
       "    }\n",
       "</style>\n",
       "<table border=\"1\" class=\"dataframe\">\n",
       "  <thead>\n",
       "    <tr style=\"text-align: right;\">\n",
       "      <th>product_id</th>\n",
       "      <th>B0BQRJ3C47</th>\n",
       "      <th>B09ZHCJDP1</th>\n",
       "      <th>B0BP7XLX48</th>\n",
       "      <th>B0B53DS4TF</th>\n",
       "      <th>B0BR4F878Q</th>\n",
       "    </tr>\n",
       "  </thead>\n",
       "  <tbody>\n",
       "    <tr>\n",
       "      <th>Average Rating</th>\n",
       "      <td>5.0</td>\n",
       "      <td>5.0</td>\n",
       "      <td>5.0</td>\n",
       "      <td>4.8</td>\n",
       "      <td>4.8</td>\n",
       "    </tr>\n",
       "  </tbody>\n",
       "</table>\n",
       "</div>"
      ],
      "text/plain": [
       "product_id      B0BQRJ3C47  B09ZHCJDP1  B0BP7XLX48  B0B53DS4TF  B0BR4F878Q\n",
       "Average Rating         5.0         5.0         5.0         4.8         4.8"
      ]
     },
     "metadata": {},
     "output_type": "display_data"
    },
    {
     "data": {
      "application/vnd.plotly.v1+json": {
       "config": {
        "plotlyServerURL": "https://plot.ly"
       },
       "data": [
        {
         "hovertemplate": "product_id=%{x}<br>Average Rating=%{y}<extra></extra>",
         "legendgroup": "B0BQRJ3C47",
         "marker": {
          "color": "#4f008c",
          "pattern": {
           "shape": ""
          }
         },
         "name": "B0BQRJ3C47",
         "orientation": "v",
         "showlegend": true,
         "textposition": "auto",
         "type": "bar",
         "x": [
          "B0BQRJ3C47"
         ],
         "xaxis": "x",
         "y": {
          "bdata": "AAAAAAAAFEA=",
          "dtype": "f8"
         },
         "yaxis": "y"
        },
        {
         "hovertemplate": "product_id=%{x}<br>Average Rating=%{y}<extra></extra>",
         "legendgroup": "B09ZHCJDP1",
         "marker": {
          "color": "#c2a6cf",
          "pattern": {
           "shape": ""
          }
         },
         "name": "B09ZHCJDP1",
         "orientation": "v",
         "showlegend": true,
         "textposition": "auto",
         "type": "bar",
         "x": [
          "B09ZHCJDP1"
         ],
         "xaxis": "x",
         "y": {
          "bdata": "AAAAAAAAFEA=",
          "dtype": "f8"
         },
         "yaxis": "y"
        },
        {
         "hovertemplate": "product_id=%{x}<br>Average Rating=%{y}<extra></extra>",
         "legendgroup": "B0BP7XLX48",
         "marker": {
          "color": "#e4d9eb",
          "pattern": {
           "shape": ""
          }
         },
         "name": "B0BP7XLX48",
         "orientation": "v",
         "showlegend": true,
         "textposition": "auto",
         "type": "bar",
         "x": [
          "B0BP7XLX48"
         ],
         "xaxis": "x",
         "y": {
          "bdata": "AAAAAAAAFEA=",
          "dtype": "f8"
         },
         "yaxis": "y"
        },
        {
         "hovertemplate": "product_id=%{x}<br>Average Rating=%{y}<extra></extra>",
         "legendgroup": "B0B53DS4TF",
         "marker": {
          "color": "#e4e9ee",
          "pattern": {
           "shape": ""
          }
         },
         "name": "B0B53DS4TF",
         "orientation": "v",
         "showlegend": true,
         "textposition": "auto",
         "type": "bar",
         "x": [
          "B0B53DS4TF"
         ],
         "xaxis": "x",
         "y": {
          "bdata": "MzMzMzMzE0A=",
          "dtype": "f8"
         },
         "yaxis": "y"
        },
        {
         "hovertemplate": "product_id=%{x}<br>Average Rating=%{y}<extra></extra>",
         "legendgroup": "B0BR4F878Q",
         "marker": {
          "color": "#4f008c",
          "pattern": {
           "shape": ""
          }
         },
         "name": "B0BR4F878Q",
         "orientation": "v",
         "showlegend": true,
         "textposition": "auto",
         "type": "bar",
         "x": [
          "B0BR4F878Q"
         ],
         "xaxis": "x",
         "y": {
          "bdata": "MzMzMzMzE0A=",
          "dtype": "f8"
         },
         "yaxis": "y"
        }
       ],
       "layout": {
        "barmode": "relative",
        "legend": {
         "title": {
          "text": "product_id"
         },
         "tracegroupgap": 0
        },
        "template": {
         "data": {
          "bar": [
           {
            "error_x": {
             "color": "#2a3f5f"
            },
            "error_y": {
             "color": "#2a3f5f"
            },
            "marker": {
             "line": {
              "color": "#E5ECF6",
              "width": 0.5
             },
             "pattern": {
              "fillmode": "overlay",
              "size": 10,
              "solidity": 0.2
             }
            },
            "type": "bar"
           }
          ],
          "barpolar": [
           {
            "marker": {
             "line": {
              "color": "#E5ECF6",
              "width": 0.5
             },
             "pattern": {
              "fillmode": "overlay",
              "size": 10,
              "solidity": 0.2
             }
            },
            "type": "barpolar"
           }
          ],
          "carpet": [
           {
            "aaxis": {
             "endlinecolor": "#2a3f5f",
             "gridcolor": "white",
             "linecolor": "white",
             "minorgridcolor": "white",
             "startlinecolor": "#2a3f5f"
            },
            "baxis": {
             "endlinecolor": "#2a3f5f",
             "gridcolor": "white",
             "linecolor": "white",
             "minorgridcolor": "white",
             "startlinecolor": "#2a3f5f"
            },
            "type": "carpet"
           }
          ],
          "choropleth": [
           {
            "colorbar": {
             "outlinewidth": 0,
             "ticks": ""
            },
            "type": "choropleth"
           }
          ],
          "contour": [
           {
            "colorbar": {
             "outlinewidth": 0,
             "ticks": ""
            },
            "colorscale": [
             [
              0,
              "#0d0887"
             ],
             [
              0.1111111111111111,
              "#46039f"
             ],
             [
              0.2222222222222222,
              "#7201a8"
             ],
             [
              0.3333333333333333,
              "#9c179e"
             ],
             [
              0.4444444444444444,
              "#bd3786"
             ],
             [
              0.5555555555555556,
              "#d8576b"
             ],
             [
              0.6666666666666666,
              "#ed7953"
             ],
             [
              0.7777777777777778,
              "#fb9f3a"
             ],
             [
              0.8888888888888888,
              "#fdca26"
             ],
             [
              1,
              "#f0f921"
             ]
            ],
            "type": "contour"
           }
          ],
          "contourcarpet": [
           {
            "colorbar": {
             "outlinewidth": 0,
             "ticks": ""
            },
            "type": "contourcarpet"
           }
          ],
          "heatmap": [
           {
            "colorbar": {
             "outlinewidth": 0,
             "ticks": ""
            },
            "colorscale": [
             [
              0,
              "#0d0887"
             ],
             [
              0.1111111111111111,
              "#46039f"
             ],
             [
              0.2222222222222222,
              "#7201a8"
             ],
             [
              0.3333333333333333,
              "#9c179e"
             ],
             [
              0.4444444444444444,
              "#bd3786"
             ],
             [
              0.5555555555555556,
              "#d8576b"
             ],
             [
              0.6666666666666666,
              "#ed7953"
             ],
             [
              0.7777777777777778,
              "#fb9f3a"
             ],
             [
              0.8888888888888888,
              "#fdca26"
             ],
             [
              1,
              "#f0f921"
             ]
            ],
            "type": "heatmap"
           }
          ],
          "histogram": [
           {
            "marker": {
             "pattern": {
              "fillmode": "overlay",
              "size": 10,
              "solidity": 0.2
             }
            },
            "type": "histogram"
           }
          ],
          "histogram2d": [
           {
            "colorbar": {
             "outlinewidth": 0,
             "ticks": ""
            },
            "colorscale": [
             [
              0,
              "#0d0887"
             ],
             [
              0.1111111111111111,
              "#46039f"
             ],
             [
              0.2222222222222222,
              "#7201a8"
             ],
             [
              0.3333333333333333,
              "#9c179e"
             ],
             [
              0.4444444444444444,
              "#bd3786"
             ],
             [
              0.5555555555555556,
              "#d8576b"
             ],
             [
              0.6666666666666666,
              "#ed7953"
             ],
             [
              0.7777777777777778,
              "#fb9f3a"
             ],
             [
              0.8888888888888888,
              "#fdca26"
             ],
             [
              1,
              "#f0f921"
             ]
            ],
            "type": "histogram2d"
           }
          ],
          "histogram2dcontour": [
           {
            "colorbar": {
             "outlinewidth": 0,
             "ticks": ""
            },
            "colorscale": [
             [
              0,
              "#0d0887"
             ],
             [
              0.1111111111111111,
              "#46039f"
             ],
             [
              0.2222222222222222,
              "#7201a8"
             ],
             [
              0.3333333333333333,
              "#9c179e"
             ],
             [
              0.4444444444444444,
              "#bd3786"
             ],
             [
              0.5555555555555556,
              "#d8576b"
             ],
             [
              0.6666666666666666,
              "#ed7953"
             ],
             [
              0.7777777777777778,
              "#fb9f3a"
             ],
             [
              0.8888888888888888,
              "#fdca26"
             ],
             [
              1,
              "#f0f921"
             ]
            ],
            "type": "histogram2dcontour"
           }
          ],
          "mesh3d": [
           {
            "colorbar": {
             "outlinewidth": 0,
             "ticks": ""
            },
            "type": "mesh3d"
           }
          ],
          "parcoords": [
           {
            "line": {
             "colorbar": {
              "outlinewidth": 0,
              "ticks": ""
             }
            },
            "type": "parcoords"
           }
          ],
          "pie": [
           {
            "automargin": true,
            "type": "pie"
           }
          ],
          "scatter": [
           {
            "fillpattern": {
             "fillmode": "overlay",
             "size": 10,
             "solidity": 0.2
            },
            "type": "scatter"
           }
          ],
          "scatter3d": [
           {
            "line": {
             "colorbar": {
              "outlinewidth": 0,
              "ticks": ""
             }
            },
            "marker": {
             "colorbar": {
              "outlinewidth": 0,
              "ticks": ""
             }
            },
            "type": "scatter3d"
           }
          ],
          "scattercarpet": [
           {
            "marker": {
             "colorbar": {
              "outlinewidth": 0,
              "ticks": ""
             }
            },
            "type": "scattercarpet"
           }
          ],
          "scattergeo": [
           {
            "marker": {
             "colorbar": {
              "outlinewidth": 0,
              "ticks": ""
             }
            },
            "type": "scattergeo"
           }
          ],
          "scattergl": [
           {
            "marker": {
             "colorbar": {
              "outlinewidth": 0,
              "ticks": ""
             }
            },
            "type": "scattergl"
           }
          ],
          "scattermap": [
           {
            "marker": {
             "colorbar": {
              "outlinewidth": 0,
              "ticks": ""
             }
            },
            "type": "scattermap"
           }
          ],
          "scattermapbox": [
           {
            "marker": {
             "colorbar": {
              "outlinewidth": 0,
              "ticks": ""
             }
            },
            "type": "scattermapbox"
           }
          ],
          "scatterpolar": [
           {
            "marker": {
             "colorbar": {
              "outlinewidth": 0,
              "ticks": ""
             }
            },
            "type": "scatterpolar"
           }
          ],
          "scatterpolargl": [
           {
            "marker": {
             "colorbar": {
              "outlinewidth": 0,
              "ticks": ""
             }
            },
            "type": "scatterpolargl"
           }
          ],
          "scatterternary": [
           {
            "marker": {
             "colorbar": {
              "outlinewidth": 0,
              "ticks": ""
             }
            },
            "type": "scatterternary"
           }
          ],
          "surface": [
           {
            "colorbar": {
             "outlinewidth": 0,
             "ticks": ""
            },
            "colorscale": [
             [
              0,
              "#0d0887"
             ],
             [
              0.1111111111111111,
              "#46039f"
             ],
             [
              0.2222222222222222,
              "#7201a8"
             ],
             [
              0.3333333333333333,
              "#9c179e"
             ],
             [
              0.4444444444444444,
              "#bd3786"
             ],
             [
              0.5555555555555556,
              "#d8576b"
             ],
             [
              0.6666666666666666,
              "#ed7953"
             ],
             [
              0.7777777777777778,
              "#fb9f3a"
             ],
             [
              0.8888888888888888,
              "#fdca26"
             ],
             [
              1,
              "#f0f921"
             ]
            ],
            "type": "surface"
           }
          ],
          "table": [
           {
            "cells": {
             "fill": {
              "color": "#EBF0F8"
             },
             "line": {
              "color": "white"
             }
            },
            "header": {
             "fill": {
              "color": "#C8D4E3"
             },
             "line": {
              "color": "white"
             }
            },
            "type": "table"
           }
          ]
         },
         "layout": {
          "annotationdefaults": {
           "arrowcolor": "#2a3f5f",
           "arrowhead": 0,
           "arrowwidth": 1
          },
          "autotypenumbers": "strict",
          "coloraxis": {
           "colorbar": {
            "outlinewidth": 0,
            "ticks": ""
           }
          },
          "colorscale": {
           "diverging": [
            [
             0,
             "#8e0152"
            ],
            [
             0.1,
             "#c51b7d"
            ],
            [
             0.2,
             "#de77ae"
            ],
            [
             0.3,
             "#f1b6da"
            ],
            [
             0.4,
             "#fde0ef"
            ],
            [
             0.5,
             "#f7f7f7"
            ],
            [
             0.6,
             "#e6f5d0"
            ],
            [
             0.7,
             "#b8e186"
            ],
            [
             0.8,
             "#7fbc41"
            ],
            [
             0.9,
             "#4d9221"
            ],
            [
             1,
             "#276419"
            ]
           ],
           "sequential": [
            [
             0,
             "#0d0887"
            ],
            [
             0.1111111111111111,
             "#46039f"
            ],
            [
             0.2222222222222222,
             "#7201a8"
            ],
            [
             0.3333333333333333,
             "#9c179e"
            ],
            [
             0.4444444444444444,
             "#bd3786"
            ],
            [
             0.5555555555555556,
             "#d8576b"
            ],
            [
             0.6666666666666666,
             "#ed7953"
            ],
            [
             0.7777777777777778,
             "#fb9f3a"
            ],
            [
             0.8888888888888888,
             "#fdca26"
            ],
            [
             1,
             "#f0f921"
            ]
           ],
           "sequentialminus": [
            [
             0,
             "#0d0887"
            ],
            [
             0.1111111111111111,
             "#46039f"
            ],
            [
             0.2222222222222222,
             "#7201a8"
            ],
            [
             0.3333333333333333,
             "#9c179e"
            ],
            [
             0.4444444444444444,
             "#bd3786"
            ],
            [
             0.5555555555555556,
             "#d8576b"
            ],
            [
             0.6666666666666666,
             "#ed7953"
            ],
            [
             0.7777777777777778,
             "#fb9f3a"
            ],
            [
             0.8888888888888888,
             "#fdca26"
            ],
            [
             1,
             "#f0f921"
            ]
           ]
          },
          "colorway": [
           "#636efa",
           "#EF553B",
           "#00cc96",
           "#ab63fa",
           "#FFA15A",
           "#19d3f3",
           "#FF6692",
           "#B6E880",
           "#FF97FF",
           "#FECB52"
          ],
          "font": {
           "color": "#2a3f5f"
          },
          "geo": {
           "bgcolor": "white",
           "lakecolor": "white",
           "landcolor": "#E5ECF6",
           "showlakes": true,
           "showland": true,
           "subunitcolor": "white"
          },
          "hoverlabel": {
           "align": "left"
          },
          "hovermode": "closest",
          "mapbox": {
           "style": "light"
          },
          "paper_bgcolor": "white",
          "plot_bgcolor": "#E5ECF6",
          "polar": {
           "angularaxis": {
            "gridcolor": "white",
            "linecolor": "white",
            "ticks": ""
           },
           "bgcolor": "#E5ECF6",
           "radialaxis": {
            "gridcolor": "white",
            "linecolor": "white",
            "ticks": ""
           }
          },
          "scene": {
           "xaxis": {
            "backgroundcolor": "#E5ECF6",
            "gridcolor": "white",
            "gridwidth": 2,
            "linecolor": "white",
            "showbackground": true,
            "ticks": "",
            "zerolinecolor": "white"
           },
           "yaxis": {
            "backgroundcolor": "#E5ECF6",
            "gridcolor": "white",
            "gridwidth": 2,
            "linecolor": "white",
            "showbackground": true,
            "ticks": "",
            "zerolinecolor": "white"
           },
           "zaxis": {
            "backgroundcolor": "#E5ECF6",
            "gridcolor": "white",
            "gridwidth": 2,
            "linecolor": "white",
            "showbackground": true,
            "ticks": "",
            "zerolinecolor": "white"
           }
          },
          "shapedefaults": {
           "line": {
            "color": "#2a3f5f"
           }
          },
          "ternary": {
           "aaxis": {
            "gridcolor": "white",
            "linecolor": "white",
            "ticks": ""
           },
           "baxis": {
            "gridcolor": "white",
            "linecolor": "white",
            "ticks": ""
           },
           "bgcolor": "#E5ECF6",
           "caxis": {
            "gridcolor": "white",
            "linecolor": "white",
            "ticks": ""
           }
          },
          "title": {
           "x": 0.05
          },
          "xaxis": {
           "automargin": true,
           "gridcolor": "white",
           "linecolor": "white",
           "ticks": "",
           "title": {
            "standoff": 15
           },
           "zerolinecolor": "white",
           "zerolinewidth": 2
          },
          "yaxis": {
           "automargin": true,
           "gridcolor": "white",
           "linecolor": "white",
           "ticks": "",
           "title": {
            "standoff": 15
           },
           "zerolinecolor": "white",
           "zerolinewidth": 2
          }
         }
        },
        "title": {
         "text": "Top 5 rated products"
        },
        "xaxis": {
         "anchor": "y",
         "categoryarray": [
          "B0BQRJ3C47",
          "B09ZHCJDP1",
          "B0BP7XLX48",
          "B0B53DS4TF",
          "B0BR4F878Q"
         ],
         "categoryorder": "array",
         "domain": [
          0,
          1
         ],
         "title": {
          "text": "product_id"
         }
        },
        "yaxis": {
         "anchor": "x",
         "domain": [
          0,
          1
         ],
         "title": {
          "text": "Average Rating"
         }
        }
       }
      }
     },
     "metadata": {},
     "output_type": "display_data"
    }
   ],
   "source": [
    "## Data Analysis\n",
    "Brand_Colors = ['#4f008c','#c2a6cf','#e4d9eb','#e4e9ee']\n",
    "\n",
    "# Top 5 rated products analysis\n",
    "if 'product_id' in df.columns and 'rating' in df.columns:\n",
    "\n",
    "    avg_rate = df.groupby('product_id')['rating'].mean().sort_values(ascending=False) #avg and sorts from high to low\n",
    "    Top_5_Rate = avg_rate.head(5)\n",
    "    print (\"Top 5 rated products\")\n",
    "    display(Top_5_Rate.to_frame(name='Average Rating').T) # .T is transposition, makes table easier to read\n",
    "\n",
    "    #Top 5 visualization\n",
    "    fig_top_5 = px.bar(Top_5_Rate,\n",
    "                       x = Top_5_Rate.index,\n",
    "                       y = 'rating',\n",
    "                       color = Top_5_Rate.index,\n",
    "                       color_discrete_sequence= Brand_Colors,\n",
    "                       title = \"Top 5 rated products\",\n",
    "                       labels={'x': 'Product ID', 'rating':'Average Rating'})\n",
    "    fig_top_5.show()"
   ]
  },
  {
   "cell_type": "code",
   "execution_count": 63,
   "id": "cbca78e1",
   "metadata": {},
   "outputs": [
    {
     "name": "stdout",
     "output_type": "stream",
     "text": [
      "\n",
      "Average rating breakdown by category\n"
     ]
    },
    {
     "data": {
      "text/html": [
       "<div>\n",
       "<style scoped>\n",
       "    .dataframe tbody tr th:only-of-type {\n",
       "        vertical-align: middle;\n",
       "    }\n",
       "\n",
       "    .dataframe tbody tr th {\n",
       "        vertical-align: top;\n",
       "    }\n",
       "\n",
       "    .dataframe thead th {\n",
       "        text-align: right;\n",
       "    }\n",
       "</style>\n",
       "<table border=\"1\" class=\"dataframe\">\n",
       "  <thead>\n",
       "    <tr style=\"text-align: right;\">\n",
       "      <th></th>\n",
       "      <th>Average Rating</th>\n",
       "    </tr>\n",
       "    <tr>\n",
       "      <th>category</th>\n",
       "      <th></th>\n",
       "    </tr>\n",
       "  </thead>\n",
       "  <tbody>\n",
       "    <tr>\n",
       "      <th>Computers&amp;Accessories|Tablets</th>\n",
       "      <td>4.6</td>\n",
       "    </tr>\n",
       "    <tr>\n",
       "      <th>Computers&amp;Accessories|NetworkingDevices|NetworkAdapters|PowerLANAdapters</th>\n",
       "      <td>4.5</td>\n",
       "    </tr>\n",
       "    <tr>\n",
       "      <th>Electronics|Cameras&amp;Photography|Accessories|Film</th>\n",
       "      <td>4.5</td>\n",
       "    </tr>\n",
       "    <tr>\n",
       "      <th>Computers&amp;Accessories|Components|Memory</th>\n",
       "      <td>4.5</td>\n",
       "    </tr>\n",
       "    <tr>\n",
       "      <th>Electronics|HomeAudio|MediaStreamingDevices|StreamingClients</th>\n",
       "      <td>4.5</td>\n",
       "    </tr>\n",
       "    <tr>\n",
       "      <th>OfficeProducts|OfficeElectronics|Calculators|Basic</th>\n",
       "      <td>4.5</td>\n",
       "    </tr>\n",
       "    <tr>\n",
       "      <th>HomeImprovement|Electrical|CordManagement</th>\n",
       "      <td>4.5</td>\n",
       "    </tr>\n",
       "    <tr>\n",
       "      <th>Home&amp;Kitchen|Kitchen&amp;HomeAppliances|Coffee,Tea&amp;Espresso|CoffeePresses</th>\n",
       "      <td>4.5</td>\n",
       "    </tr>\n",
       "    <tr>\n",
       "      <th>Home&amp;Kitchen|Kitchen&amp;HomeAppliances|SmallKitchenAppliances|SmallApplianceParts&amp;Accessories</th>\n",
       "      <td>4.5</td>\n",
       "    </tr>\n",
       "    <tr>\n",
       "      <th>Electronics|PowerAccessories|SurgeProtectors</th>\n",
       "      <td>4.5</td>\n",
       "    </tr>\n",
       "  </tbody>\n",
       "</table>\n",
       "</div>"
      ],
      "text/plain": [
       "                                                    Average Rating\n",
       "category                                                          \n",
       "Computers&Accessories|Tablets                                  4.6\n",
       "Computers&Accessories|NetworkingDevices|Network...             4.5\n",
       "Electronics|Cameras&Photography|Accessories|Film               4.5\n",
       "Computers&Accessories|Components|Memory                        4.5\n",
       "Electronics|HomeAudio|MediaStreamingDevices|Str...             4.5\n",
       "OfficeProducts|OfficeElectronics|Calculators|Basic             4.5\n",
       "HomeImprovement|Electrical|CordManagement                      4.5\n",
       "Home&Kitchen|Kitchen&HomeAppliances|Coffee,Tea&...             4.5\n",
       "Home&Kitchen|Kitchen&HomeAppliances|SmallKitche...             4.5\n",
       "Electronics|PowerAccessories|SurgeProtectors                   4.5"
      ]
     },
     "metadata": {},
     "output_type": "display_data"
    },
    {
     "data": {
      "application/vnd.plotly.v1+json": {
       "config": {
        "plotlyServerURL": "https://plot.ly"
       },
       "data": [
        {
         "hovertemplate": "color=Computers&Accessories|Tablets<br>Category=%{x}<br>Average Rating=%{y}<extra></extra>",
         "legendgroup": "Computers&Accessories|Tablets",
         "marker": {
          "color": "#4f008c",
          "pattern": {
           "shape": ""
          }
         },
         "name": "Computers&Accessories|Tablets",
         "orientation": "v",
         "showlegend": true,
         "textposition": "auto",
         "type": "bar",
         "x": [
          "Computers&Accessories|Tablets"
         ],
         "xaxis": "x",
         "y": {
          "bdata": "ZmZmZmZmEkA=",
          "dtype": "f8"
         },
         "yaxis": "y"
        },
        {
         "hovertemplate": "color=Computers&Accessories|NetworkingDevices|NetworkAdapters|PowerLANAdapters<br>Category=%{x}<br>Average Rating=%{y}<extra></extra>",
         "legendgroup": "Computers&Accessories|NetworkingDevices|NetworkAdapters|PowerLANAdapters",
         "marker": {
          "color": "#c2a6cf",
          "pattern": {
           "shape": ""
          }
         },
         "name": "Computers&Accessories|NetworkingDevices|NetworkAdapters|PowerLANAdapters",
         "orientation": "v",
         "showlegend": true,
         "textposition": "auto",
         "type": "bar",
         "x": [
          "Computers&Accessories|NetworkingDevices|NetworkAdapters|PowerLANAdapters"
         ],
         "xaxis": "x",
         "y": {
          "bdata": "AAAAAAAAEkA=",
          "dtype": "f8"
         },
         "yaxis": "y"
        },
        {
         "hovertemplate": "color=Electronics|Cameras&Photography|Accessories|Film<br>Category=%{x}<br>Average Rating=%{y}<extra></extra>",
         "legendgroup": "Electronics|Cameras&Photography|Accessories|Film",
         "marker": {
          "color": "#e4d9eb",
          "pattern": {
           "shape": ""
          }
         },
         "name": "Electronics|Cameras&Photography|Accessories|Film",
         "orientation": "v",
         "showlegend": true,
         "textposition": "auto",
         "type": "bar",
         "x": [
          "Electronics|Cameras&Photography|Accessories|Film"
         ],
         "xaxis": "x",
         "y": {
          "bdata": "AAAAAAAAEkA=",
          "dtype": "f8"
         },
         "yaxis": "y"
        },
        {
         "hovertemplate": "color=Computers&Accessories|Components|Memory<br>Category=%{x}<br>Average Rating=%{y}<extra></extra>",
         "legendgroup": "Computers&Accessories|Components|Memory",
         "marker": {
          "color": "#e4e9ee",
          "pattern": {
           "shape": ""
          }
         },
         "name": "Computers&Accessories|Components|Memory",
         "orientation": "v",
         "showlegend": true,
         "textposition": "auto",
         "type": "bar",
         "x": [
          "Computers&Accessories|Components|Memory"
         ],
         "xaxis": "x",
         "y": {
          "bdata": "AAAAAAAAEkA=",
          "dtype": "f8"
         },
         "yaxis": "y"
        },
        {
         "hovertemplate": "color=Electronics|HomeAudio|MediaStreamingDevices|StreamingClients<br>Category=%{x}<br>Average Rating=%{y}<extra></extra>",
         "legendgroup": "Electronics|HomeAudio|MediaStreamingDevices|StreamingClients",
         "marker": {
          "color": "#4f008c",
          "pattern": {
           "shape": ""
          }
         },
         "name": "Electronics|HomeAudio|MediaStreamingDevices|StreamingClients",
         "orientation": "v",
         "showlegend": true,
         "textposition": "auto",
         "type": "bar",
         "x": [
          "Electronics|HomeAudio|MediaStreamingDevices|StreamingClients"
         ],
         "xaxis": "x",
         "y": {
          "bdata": "AAAAAAAAEkA=",
          "dtype": "f8"
         },
         "yaxis": "y"
        },
        {
         "hovertemplate": "color=OfficeProducts|OfficeElectronics|Calculators|Basic<br>Category=%{x}<br>Average Rating=%{y}<extra></extra>",
         "legendgroup": "OfficeProducts|OfficeElectronics|Calculators|Basic",
         "marker": {
          "color": "#c2a6cf",
          "pattern": {
           "shape": ""
          }
         },
         "name": "OfficeProducts|OfficeElectronics|Calculators|Basic",
         "orientation": "v",
         "showlegend": true,
         "textposition": "auto",
         "type": "bar",
         "x": [
          "OfficeProducts|OfficeElectronics|Calculators|Basic"
         ],
         "xaxis": "x",
         "y": {
          "bdata": "AAAAAAAAEkA=",
          "dtype": "f8"
         },
         "yaxis": "y"
        },
        {
         "hovertemplate": "color=HomeImprovement|Electrical|CordManagement<br>Category=%{x}<br>Average Rating=%{y}<extra></extra>",
         "legendgroup": "HomeImprovement|Electrical|CordManagement",
         "marker": {
          "color": "#e4d9eb",
          "pattern": {
           "shape": ""
          }
         },
         "name": "HomeImprovement|Electrical|CordManagement",
         "orientation": "v",
         "showlegend": true,
         "textposition": "auto",
         "type": "bar",
         "x": [
          "HomeImprovement|Electrical|CordManagement"
         ],
         "xaxis": "x",
         "y": {
          "bdata": "AAAAAAAAEkA=",
          "dtype": "f8"
         },
         "yaxis": "y"
        },
        {
         "hovertemplate": "color=Home&Kitchen|Kitchen&HomeAppliances|Coffee,Tea&Espresso|CoffeePresses<br>Category=%{x}<br>Average Rating=%{y}<extra></extra>",
         "legendgroup": "Home&Kitchen|Kitchen&HomeAppliances|Coffee,Tea&Espresso|CoffeePresses",
         "marker": {
          "color": "#e4e9ee",
          "pattern": {
           "shape": ""
          }
         },
         "name": "Home&Kitchen|Kitchen&HomeAppliances|Coffee,Tea&Espresso|CoffeePresses",
         "orientation": "v",
         "showlegend": true,
         "textposition": "auto",
         "type": "bar",
         "x": [
          "Home&Kitchen|Kitchen&HomeAppliances|Coffee,Tea&Espresso|CoffeePresses"
         ],
         "xaxis": "x",
         "y": {
          "bdata": "AAAAAAAAEkA=",
          "dtype": "f8"
         },
         "yaxis": "y"
        },
        {
         "hovertemplate": "color=Home&Kitchen|Kitchen&HomeAppliances|SmallKitchenAppliances|SmallApplianceParts&Accessories<br>Category=%{x}<br>Average Rating=%{y}<extra></extra>",
         "legendgroup": "Home&Kitchen|Kitchen&HomeAppliances|SmallKitchenAppliances|SmallApplianceParts&Accessories",
         "marker": {
          "color": "#4f008c",
          "pattern": {
           "shape": ""
          }
         },
         "name": "Home&Kitchen|Kitchen&HomeAppliances|SmallKitchenAppliances|SmallApplianceParts&Accessories",
         "orientation": "v",
         "showlegend": true,
         "textposition": "auto",
         "type": "bar",
         "x": [
          "Home&Kitchen|Kitchen&HomeAppliances|SmallKitchenAppliances|SmallApplianceParts&Accessories"
         ],
         "xaxis": "x",
         "y": {
          "bdata": "AAAAAAAAEkA=",
          "dtype": "f8"
         },
         "yaxis": "y"
        },
        {
         "hovertemplate": "color=Electronics|PowerAccessories|SurgeProtectors<br>Category=%{x}<br>Average Rating=%{y}<extra></extra>",
         "legendgroup": "Electronics|PowerAccessories|SurgeProtectors",
         "marker": {
          "color": "#c2a6cf",
          "pattern": {
           "shape": ""
          }
         },
         "name": "Electronics|PowerAccessories|SurgeProtectors",
         "orientation": "v",
         "showlegend": true,
         "textposition": "auto",
         "type": "bar",
         "x": [
          "Electronics|PowerAccessories|SurgeProtectors"
         ],
         "xaxis": "x",
         "y": {
          "bdata": "AAAAAAAAEkA=",
          "dtype": "f8"
         },
         "yaxis": "y"
        }
       ],
       "layout": {
        "barmode": "relative",
        "legend": {
         "title": {
          "text": "color"
         },
         "tracegroupgap": 0
        },
        "template": {
         "data": {
          "bar": [
           {
            "error_x": {
             "color": "#2a3f5f"
            },
            "error_y": {
             "color": "#2a3f5f"
            },
            "marker": {
             "line": {
              "color": "#E5ECF6",
              "width": 0.5
             },
             "pattern": {
              "fillmode": "overlay",
              "size": 10,
              "solidity": 0.2
             }
            },
            "type": "bar"
           }
          ],
          "barpolar": [
           {
            "marker": {
             "line": {
              "color": "#E5ECF6",
              "width": 0.5
             },
             "pattern": {
              "fillmode": "overlay",
              "size": 10,
              "solidity": 0.2
             }
            },
            "type": "barpolar"
           }
          ],
          "carpet": [
           {
            "aaxis": {
             "endlinecolor": "#2a3f5f",
             "gridcolor": "white",
             "linecolor": "white",
             "minorgridcolor": "white",
             "startlinecolor": "#2a3f5f"
            },
            "baxis": {
             "endlinecolor": "#2a3f5f",
             "gridcolor": "white",
             "linecolor": "white",
             "minorgridcolor": "white",
             "startlinecolor": "#2a3f5f"
            },
            "type": "carpet"
           }
          ],
          "choropleth": [
           {
            "colorbar": {
             "outlinewidth": 0,
             "ticks": ""
            },
            "type": "choropleth"
           }
          ],
          "contour": [
           {
            "colorbar": {
             "outlinewidth": 0,
             "ticks": ""
            },
            "colorscale": [
             [
              0,
              "#0d0887"
             ],
             [
              0.1111111111111111,
              "#46039f"
             ],
             [
              0.2222222222222222,
              "#7201a8"
             ],
             [
              0.3333333333333333,
              "#9c179e"
             ],
             [
              0.4444444444444444,
              "#bd3786"
             ],
             [
              0.5555555555555556,
              "#d8576b"
             ],
             [
              0.6666666666666666,
              "#ed7953"
             ],
             [
              0.7777777777777778,
              "#fb9f3a"
             ],
             [
              0.8888888888888888,
              "#fdca26"
             ],
             [
              1,
              "#f0f921"
             ]
            ],
            "type": "contour"
           }
          ],
          "contourcarpet": [
           {
            "colorbar": {
             "outlinewidth": 0,
             "ticks": ""
            },
            "type": "contourcarpet"
           }
          ],
          "heatmap": [
           {
            "colorbar": {
             "outlinewidth": 0,
             "ticks": ""
            },
            "colorscale": [
             [
              0,
              "#0d0887"
             ],
             [
              0.1111111111111111,
              "#46039f"
             ],
             [
              0.2222222222222222,
              "#7201a8"
             ],
             [
              0.3333333333333333,
              "#9c179e"
             ],
             [
              0.4444444444444444,
              "#bd3786"
             ],
             [
              0.5555555555555556,
              "#d8576b"
             ],
             [
              0.6666666666666666,
              "#ed7953"
             ],
             [
              0.7777777777777778,
              "#fb9f3a"
             ],
             [
              0.8888888888888888,
              "#fdca26"
             ],
             [
              1,
              "#f0f921"
             ]
            ],
            "type": "heatmap"
           }
          ],
          "histogram": [
           {
            "marker": {
             "pattern": {
              "fillmode": "overlay",
              "size": 10,
              "solidity": 0.2
             }
            },
            "type": "histogram"
           }
          ],
          "histogram2d": [
           {
            "colorbar": {
             "outlinewidth": 0,
             "ticks": ""
            },
            "colorscale": [
             [
              0,
              "#0d0887"
             ],
             [
              0.1111111111111111,
              "#46039f"
             ],
             [
              0.2222222222222222,
              "#7201a8"
             ],
             [
              0.3333333333333333,
              "#9c179e"
             ],
             [
              0.4444444444444444,
              "#bd3786"
             ],
             [
              0.5555555555555556,
              "#d8576b"
             ],
             [
              0.6666666666666666,
              "#ed7953"
             ],
             [
              0.7777777777777778,
              "#fb9f3a"
             ],
             [
              0.8888888888888888,
              "#fdca26"
             ],
             [
              1,
              "#f0f921"
             ]
            ],
            "type": "histogram2d"
           }
          ],
          "histogram2dcontour": [
           {
            "colorbar": {
             "outlinewidth": 0,
             "ticks": ""
            },
            "colorscale": [
             [
              0,
              "#0d0887"
             ],
             [
              0.1111111111111111,
              "#46039f"
             ],
             [
              0.2222222222222222,
              "#7201a8"
             ],
             [
              0.3333333333333333,
              "#9c179e"
             ],
             [
              0.4444444444444444,
              "#bd3786"
             ],
             [
              0.5555555555555556,
              "#d8576b"
             ],
             [
              0.6666666666666666,
              "#ed7953"
             ],
             [
              0.7777777777777778,
              "#fb9f3a"
             ],
             [
              0.8888888888888888,
              "#fdca26"
             ],
             [
              1,
              "#f0f921"
             ]
            ],
            "type": "histogram2dcontour"
           }
          ],
          "mesh3d": [
           {
            "colorbar": {
             "outlinewidth": 0,
             "ticks": ""
            },
            "type": "mesh3d"
           }
          ],
          "parcoords": [
           {
            "line": {
             "colorbar": {
              "outlinewidth": 0,
              "ticks": ""
             }
            },
            "type": "parcoords"
           }
          ],
          "pie": [
           {
            "automargin": true,
            "type": "pie"
           }
          ],
          "scatter": [
           {
            "fillpattern": {
             "fillmode": "overlay",
             "size": 10,
             "solidity": 0.2
            },
            "type": "scatter"
           }
          ],
          "scatter3d": [
           {
            "line": {
             "colorbar": {
              "outlinewidth": 0,
              "ticks": ""
             }
            },
            "marker": {
             "colorbar": {
              "outlinewidth": 0,
              "ticks": ""
             }
            },
            "type": "scatter3d"
           }
          ],
          "scattercarpet": [
           {
            "marker": {
             "colorbar": {
              "outlinewidth": 0,
              "ticks": ""
             }
            },
            "type": "scattercarpet"
           }
          ],
          "scattergeo": [
           {
            "marker": {
             "colorbar": {
              "outlinewidth": 0,
              "ticks": ""
             }
            },
            "type": "scattergeo"
           }
          ],
          "scattergl": [
           {
            "marker": {
             "colorbar": {
              "outlinewidth": 0,
              "ticks": ""
             }
            },
            "type": "scattergl"
           }
          ],
          "scattermap": [
           {
            "marker": {
             "colorbar": {
              "outlinewidth": 0,
              "ticks": ""
             }
            },
            "type": "scattermap"
           }
          ],
          "scattermapbox": [
           {
            "marker": {
             "colorbar": {
              "outlinewidth": 0,
              "ticks": ""
             }
            },
            "type": "scattermapbox"
           }
          ],
          "scatterpolar": [
           {
            "marker": {
             "colorbar": {
              "outlinewidth": 0,
              "ticks": ""
             }
            },
            "type": "scatterpolar"
           }
          ],
          "scatterpolargl": [
           {
            "marker": {
             "colorbar": {
              "outlinewidth": 0,
              "ticks": ""
             }
            },
            "type": "scatterpolargl"
           }
          ],
          "scatterternary": [
           {
            "marker": {
             "colorbar": {
              "outlinewidth": 0,
              "ticks": ""
             }
            },
            "type": "scatterternary"
           }
          ],
          "surface": [
           {
            "colorbar": {
             "outlinewidth": 0,
             "ticks": ""
            },
            "colorscale": [
             [
              0,
              "#0d0887"
             ],
             [
              0.1111111111111111,
              "#46039f"
             ],
             [
              0.2222222222222222,
              "#7201a8"
             ],
             [
              0.3333333333333333,
              "#9c179e"
             ],
             [
              0.4444444444444444,
              "#bd3786"
             ],
             [
              0.5555555555555556,
              "#d8576b"
             ],
             [
              0.6666666666666666,
              "#ed7953"
             ],
             [
              0.7777777777777778,
              "#fb9f3a"
             ],
             [
              0.8888888888888888,
              "#fdca26"
             ],
             [
              1,
              "#f0f921"
             ]
            ],
            "type": "surface"
           }
          ],
          "table": [
           {
            "cells": {
             "fill": {
              "color": "#EBF0F8"
             },
             "line": {
              "color": "white"
             }
            },
            "header": {
             "fill": {
              "color": "#C8D4E3"
             },
             "line": {
              "color": "white"
             }
            },
            "type": "table"
           }
          ]
         },
         "layout": {
          "annotationdefaults": {
           "arrowcolor": "#2a3f5f",
           "arrowhead": 0,
           "arrowwidth": 1
          },
          "autotypenumbers": "strict",
          "coloraxis": {
           "colorbar": {
            "outlinewidth": 0,
            "ticks": ""
           }
          },
          "colorscale": {
           "diverging": [
            [
             0,
             "#8e0152"
            ],
            [
             0.1,
             "#c51b7d"
            ],
            [
             0.2,
             "#de77ae"
            ],
            [
             0.3,
             "#f1b6da"
            ],
            [
             0.4,
             "#fde0ef"
            ],
            [
             0.5,
             "#f7f7f7"
            ],
            [
             0.6,
             "#e6f5d0"
            ],
            [
             0.7,
             "#b8e186"
            ],
            [
             0.8,
             "#7fbc41"
            ],
            [
             0.9,
             "#4d9221"
            ],
            [
             1,
             "#276419"
            ]
           ],
           "sequential": [
            [
             0,
             "#0d0887"
            ],
            [
             0.1111111111111111,
             "#46039f"
            ],
            [
             0.2222222222222222,
             "#7201a8"
            ],
            [
             0.3333333333333333,
             "#9c179e"
            ],
            [
             0.4444444444444444,
             "#bd3786"
            ],
            [
             0.5555555555555556,
             "#d8576b"
            ],
            [
             0.6666666666666666,
             "#ed7953"
            ],
            [
             0.7777777777777778,
             "#fb9f3a"
            ],
            [
             0.8888888888888888,
             "#fdca26"
            ],
            [
             1,
             "#f0f921"
            ]
           ],
           "sequentialminus": [
            [
             0,
             "#0d0887"
            ],
            [
             0.1111111111111111,
             "#46039f"
            ],
            [
             0.2222222222222222,
             "#7201a8"
            ],
            [
             0.3333333333333333,
             "#9c179e"
            ],
            [
             0.4444444444444444,
             "#bd3786"
            ],
            [
             0.5555555555555556,
             "#d8576b"
            ],
            [
             0.6666666666666666,
             "#ed7953"
            ],
            [
             0.7777777777777778,
             "#fb9f3a"
            ],
            [
             0.8888888888888888,
             "#fdca26"
            ],
            [
             1,
             "#f0f921"
            ]
           ]
          },
          "colorway": [
           "#636efa",
           "#EF553B",
           "#00cc96",
           "#ab63fa",
           "#FFA15A",
           "#19d3f3",
           "#FF6692",
           "#B6E880",
           "#FF97FF",
           "#FECB52"
          ],
          "font": {
           "color": "#2a3f5f"
          },
          "geo": {
           "bgcolor": "white",
           "lakecolor": "white",
           "landcolor": "#E5ECF6",
           "showlakes": true,
           "showland": true,
           "subunitcolor": "white"
          },
          "hoverlabel": {
           "align": "left"
          },
          "hovermode": "closest",
          "mapbox": {
           "style": "light"
          },
          "paper_bgcolor": "white",
          "plot_bgcolor": "#E5ECF6",
          "polar": {
           "angularaxis": {
            "gridcolor": "white",
            "linecolor": "white",
            "ticks": ""
           },
           "bgcolor": "#E5ECF6",
           "radialaxis": {
            "gridcolor": "white",
            "linecolor": "white",
            "ticks": ""
           }
          },
          "scene": {
           "xaxis": {
            "backgroundcolor": "#E5ECF6",
            "gridcolor": "white",
            "gridwidth": 2,
            "linecolor": "white",
            "showbackground": true,
            "ticks": "",
            "zerolinecolor": "white"
           },
           "yaxis": {
            "backgroundcolor": "#E5ECF6",
            "gridcolor": "white",
            "gridwidth": 2,
            "linecolor": "white",
            "showbackground": true,
            "ticks": "",
            "zerolinecolor": "white"
           },
           "zaxis": {
            "backgroundcolor": "#E5ECF6",
            "gridcolor": "white",
            "gridwidth": 2,
            "linecolor": "white",
            "showbackground": true,
            "ticks": "",
            "zerolinecolor": "white"
           }
          },
          "shapedefaults": {
           "line": {
            "color": "#2a3f5f"
           }
          },
          "ternary": {
           "aaxis": {
            "gridcolor": "white",
            "linecolor": "white",
            "ticks": ""
           },
           "baxis": {
            "gridcolor": "white",
            "linecolor": "white",
            "ticks": ""
           },
           "bgcolor": "#E5ECF6",
           "caxis": {
            "gridcolor": "white",
            "linecolor": "white",
            "ticks": ""
           }
          },
          "title": {
           "x": 0.05
          },
          "xaxis": {
           "automargin": true,
           "gridcolor": "white",
           "linecolor": "white",
           "ticks": "",
           "title": {
            "standoff": 15
           },
           "zerolinecolor": "white",
           "zerolinewidth": 2
          },
          "yaxis": {
           "automargin": true,
           "gridcolor": "white",
           "linecolor": "white",
           "ticks": "",
           "title": {
            "standoff": 15
           },
           "zerolinecolor": "white",
           "zerolinewidth": 2
          }
         }
        },
        "title": {
         "text": "Categories sorted by average rating (Top 10)"
        },
        "xaxis": {
         "anchor": "y",
         "domain": [
          0,
          1
         ],
         "title": {
          "text": "Category"
         }
        },
        "yaxis": {
         "anchor": "x",
         "domain": [
          0,
          1
         ],
         "title": {
          "text": "Average Rating"
         }
        }
       }
      }
     },
     "metadata": {},
     "output_type": "display_data"
    }
   ],
   "source": [
    "# Breakdown by category analysis\n",
    "if 'category' in df.columns and 'rating' in df.columns:\n",
    "    Avg_Cat_Rate = df.groupby('category')['rating'].mean().sort_values(ascending=False).round(2) #average category rating\n",
    "    print(\"\\nAverage rating breakdown by category\")\n",
    "    display(Avg_Cat_Rate.head(10).to_frame(name='Average Rating'))\n",
    "\n",
    "    #category analysis visualization\n",
    "    fig_cat_rate = px.bar(Avg_Cat_Rate.head(10),\n",
    "        x = Avg_Cat_Rate.head(10).index,\n",
    "        y = 'rating',\n",
    "        title = \"Categories sorted by average rating (Top 10)\",\n",
    "        labels={'x': 'Category', 'rating': 'Average Rating'},\n",
    "        color = Avg_Cat_Rate.head(10).index,\n",
    "        color_discrete_sequence= Brand_Colors)\n",
    "    fig_cat_rate.show()"
   ]
  },
  {
   "cell_type": "code",
   "execution_count": null,
   "id": "82a9f99f",
   "metadata": {},
   "outputs": [
    {
     "name": "stdout",
     "output_type": "stream",
     "text": [
      "\n",
      "Feature Engineering: Successfully created 'Customer_Feedback' for sentiment analysis.\n"
     ]
    }
   ],
   "source": [
    "## Feature engineering\n",
    "New_Col = 'Customer_Feedback'\n",
    "\n",
    "if 'review_title' in df.columns and 'review_content' in df.columns:\n",
    "    df[New_Col] = df['review_title'].astype(str) + \" \" + df['review_content'].astype(str)\n",
    "    print(f\"\\nFeature Engineering: Successfully created '{New_Col}' for sentiment analysis.\")\n",
    "else:\n",
    "    print(f\"ERROR: {New_Col} could not be created\")\n",
    "\n",
    "os.makedirs('Data',exist_ok=True) #create Data directory if it doesn't exist\n",
    "df.to_pickle(os.path.join('Data','cleaned_sales_data.pkl'))\n",
    "print(\"Data saved as 'cleaned_sales_data.pkl'\")\n"
   ]
  }
 ],
 "metadata": {
  "kernelspec": {
   "display_name": "llm_env",
   "language": "python",
   "name": "python3"
  },
  "language_info": {
   "codemirror_mode": {
    "name": "ipython",
    "version": 3
   },
   "file_extension": ".py",
   "mimetype": "text/x-python",
   "name": "python",
   "nbconvert_exporter": "python",
   "pygments_lexer": "ipython3",
   "version": "3.10.18"
  }
 },
 "nbformat": 4,
 "nbformat_minor": 5
}
