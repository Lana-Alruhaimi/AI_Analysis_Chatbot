{
 "cells": [
  {
   "cell_type": "code",
   "execution_count": 1,
   "id": "287f6a9b",
   "metadata": {},
   "outputs": [],
   "source": [
    "import pandas as pd\n",
    "import numpy as np\n",
    "import plotly.express as px\n",
    "import os #deal with directories and can work on all OS"
   ]
  },
  {
   "cell_type": "code",
   "execution_count": null,
   "id": "6afbe321",
   "metadata": {},
   "outputs": [],
   "source": [
    "## Path definitions\n",
    "PROJECT_ROOT = os.path.join(os.getcwd(), '..') #Main file (in this case \"AI_Analysis_and_Chatbot\")\n",
    "EXCEL_FILE_PATH = os.path.join(PROJECT_ROOT, 'Data', 'amazon_product_reviews.xlsx') #gets path with file name and folder"
   ]
  },
  {
   "cell_type": "code",
   "execution_count": null,
   "id": "e79e44b5",
   "metadata": {},
   "outputs": [],
   "source": [
    "## Data cleaning functions\n",
    "\n",
    "# Cleaning numbers\n",
    "def clean_num (series): #remove symbols from numbers and and convert to float\n",
    "    if series.dtype == 'object': #when reading it appears as text (so we dont take numbers without symbols)\n",
    "        return (series.astype(str) #cast to string for consistency\n",
    "                      .str.replace('â‚¹', '', regex=False) #delete symbol (replace with empty string)\n",
    "                      .str.replace(',', '', regex=False) #so they can be dealt with as floats/ints not strings\n",
    "                      .str.replace('%', '', regex=False)\n",
    "                      .str.strip() #remove spaces before/after string\n",
    "                      .astype(float, errors='coerce')) # Convert to float, turns errors (like empty strings) to NaN\n",
    "    return series\n",
    "\n",
    "# Cleaning text\n",
    "def clean_txt(series):\n",
    "    if series.dtype == 'object':\n",
    "        return (series.astype(str)\n",
    "                .str.replace(r'[ã€\\s?\\[?\\u200b\\ufeff\\u00a0\\u201d\\u201c\\u2013\\u2022âœ“â€¢â˜…ã€‘]', '', regex=True) #remove symbols\n",
    "                .str.strip()\n",
    "                .str.replace(r'\\s+', ' ', regex=True) #replace multispace with one space\n",
    "                )\n",
    "    return series"
   ]
  },
  {
   "cell_type": "code",
   "execution_count": 8,
   "id": "ff2c7e60",
   "metadata": {},
   "outputs": [
    {
     "name": "stdout",
     "output_type": "stream",
     "text": [
      "Successfully loaded 1465 records.\n"
     ]
    }
   ],
   "source": [
    "## Data Reading\n",
    "\n",
    "try:\n",
    "    df = pd.read_excel(EXCEL_FILE_PATH, engine='openpyxl') #openpyxl is modern engine for .xlsx format\n",
    "    print(f\"Successfully loaded {len(df)} records.\") #prove file was read correctly and how many records we have\n",
    "except FileNotFoundError:\n",
    "    print(f\"ERROR: File not in {EXCEL_FILE_PATH}\")\n",
    "    exit()\n"
   ]
  },
  {
   "cell_type": "code",
   "execution_count": null,
   "id": "56585bd0",
   "metadata": {},
   "outputs": [],
   "source": [
    "## Data Cleaning"
   ]
  }
 ],
 "metadata": {
  "kernelspec": {
   "display_name": "llm_env",
   "language": "python",
   "name": "python3"
  },
  "language_info": {
   "codemirror_mode": {
    "name": "ipython",
    "version": 3
   },
   "file_extension": ".py",
   "mimetype": "text/x-python",
   "name": "python",
   "nbconvert_exporter": "python",
   "pygments_lexer": "ipython3",
   "version": "3.10.18"
  }
 },
 "nbformat": 4,
 "nbformat_minor": 5
}
