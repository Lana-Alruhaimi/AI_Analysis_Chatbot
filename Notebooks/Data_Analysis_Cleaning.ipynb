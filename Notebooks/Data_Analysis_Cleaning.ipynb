{
 "cells": [
  {
   "cell_type": "code",
   "execution_count": 1,
   "id": "287f6a9b",
   "metadata": {},
   "outputs": [],
   "source": [
    "import pandas as pd\n",
    "import numpy as np\n",
    "import plotly.express as px\n",
    "import os #deal with directories and can work on all OS"
   ]
  },
  {
   "cell_type": "code",
   "execution_count": null,
   "id": "6afbe321",
   "metadata": {},
   "outputs": [
    {
     "name": "stdout",
     "output_type": "stream",
     "text": [
      "Current Working Directory: c:\\Users\\lalruhaimi.t\\OneDrive - Solutions by stc\\Documents\\GitHub\\AI_Analysis_and_Chatbot\\Notebooks\n",
      "Calculated Data Path: c:\\Users\\lalruhaimi.t\\OneDrive - Solutions by stc\\Documents\\GitHub\\AI_Analysis_and_Chatbot\\Notebooks\\..\\Data\\amazon_product_reviews.xlsx\n"
     ]
    }
   ],
   "source": [
    "PROJECT_ROOT = os.path.join(os.getcwd(), '..') #Main file (in this case \"AI_Analysis_and_Chatbot\")\n",
    "EXCEL_FILE_PATH = os.path.join(PROJECT_ROOT, 'Data', 'amazon_product_reviews.xlsx') #gets path with file name and folder\n"
   ]
  }
 ],
 "metadata": {
  "kernelspec": {
   "display_name": "llm_env",
   "language": "python",
   "name": "python3"
  },
  "language_info": {
   "codemirror_mode": {
    "name": "ipython",
    "version": 3
   },
   "file_extension": ".py",
   "mimetype": "text/x-python",
   "name": "python",
   "nbconvert_exporter": "python",
   "pygments_lexer": "ipython3",
   "version": "3.10.18"
  }
 },
 "nbformat": 4,
 "nbformat_minor": 5
}
