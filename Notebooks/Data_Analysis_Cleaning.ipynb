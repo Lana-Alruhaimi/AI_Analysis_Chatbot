{
 "cells": [
  {
   "cell_type": "code",
   "execution_count": 1,
   "id": "287f6a9b",
   "metadata": {},
   "outputs": [],
   "source": [
    "import pandas as pd\n",
    "import numpy as np\n",
    "import plotly.express as px\n",
    "import os #deal with directories and can work on all OS"
   ]
  },
  {
   "cell_type": "code",
   "execution_count": null,
   "id": "6afbe321",
   "metadata": {},
   "outputs": [],
   "source": [
    "## Path definitions\n",
    "PROJECT_ROOT = os.path.join(os.getcwd(), '..') #Main file (in this case \"AI_Analysis_and_Chatbot\")\n",
    "EXCEL_FILE_PATH = os.path.join(PROJECT_ROOT, 'Data', 'amazon_product_reviews.xlsx') #gets path with file name and folder"
   ]
  },
  {
   "cell_type": "code",
   "execution_count": 15,
   "id": "e79e44b5",
   "metadata": {},
   "outputs": [],
   "source": [
    "## Data cleaning functions\n",
    "\n",
    "# Cleaning numbers\n",
    "def clean_num (series): #remove symbols from numbers and and convert to float\n",
    "    if series.dtype == 'object': #when reading it appears as text (so we dont take numbers without symbols)\n",
    "        cleaned_series = (series.astype(str) #cast to string for consistency\n",
    "                      .str.replace('â‚¹', '', regex=False) #delete symbol (replace with empty string)\n",
    "                      .str.replace(',', '', regex=False) #so they can be dealt with as floats/ints not strings\n",
    "                      .str.replace('%', '', regex=False)\n",
    "                      .str.strip()) #remove spaces before/after string\n",
    "        return pd.to_numeric(cleaned_series, errors='coerce')\n",
    "    return series\n",
    "\n",
    "# Cleaning text\n",
    "def clean_txt(series):\n",
    "    if series.dtype == 'object':\n",
    "        return (series.astype(str)\n",
    "                .str.replace(r'[ã€\\s?\\[?\\u200b\\ufeff\\u00a0\\u201d\\u201c\\u2013\\u2022âœ“â€¢â˜…ã€‘]', '', regex=True) #remove symbols\n",
    "                .str.strip()\n",
    "                .str.replace(r'\\s+', ' ', regex=True) #replace multispace with one space\n",
    "                )\n",
    "    return series"
   ]
  },
  {
   "cell_type": "code",
   "execution_count": 16,
   "id": "ff2c7e60",
   "metadata": {},
   "outputs": [
    {
     "name": "stdout",
     "output_type": "stream",
     "text": [
      "Successfully loaded 1465 records.\n"
     ]
    }
   ],
   "source": [
    "## Data Reading\n",
    "\n",
    "try:\n",
    "    df = pd.read_excel(EXCEL_FILE_PATH, engine='openpyxl') #openpyxl is modern engine for .xlsx format\n",
    "    print(f\"Successfully loaded {len(df)} records.\") #prove file was read correctly and how many records we have\n",
    "except FileNotFoundError:\n",
    "    print(f\"ERROR: File not in {EXCEL_FILE_PATH}\")\n",
    "    exit()\n"
   ]
  },
  {
   "cell_type": "code",
   "execution_count": null,
   "id": "56585bd0",
   "metadata": {},
   "outputs": [
    {
     "name": "stdout",
     "output_type": "stream",
     "text": [
      "Price, count, and percentage columns cleaned and converted to numeric.\n"
     ]
    },
    {
     "ename": "NameError",
     "evalue": "name 'NUMERIC_COLS' is not defined",
     "output_type": "error",
     "traceback": [
      "\u001b[1;31m---------------------------------------------------------------------------\u001b[0m",
      "\u001b[1;31mNameError\u001b[0m                                 Traceback (most recent call last)",
      "Cell \u001b[1;32mIn[18], line 18\u001b[0m\n\u001b[0;32m     15\u001b[0m         df[col] \u001b[38;5;241m=\u001b[39m clean_txt(df[col])\n\u001b[0;32m     17\u001b[0m \u001b[38;5;28mprint\u001b[39m(\u001b[38;5;124m\"\u001b[39m\u001b[38;5;124mPrice, count, and percentage columns cleaned and converted to numeric.\u001b[39m\u001b[38;5;124m\"\u001b[39m)\n\u001b[1;32m---> 18\u001b[0m \u001b[38;5;28mprint\u001b[39m(df[\u001b[43mNUMERIC_COLS\u001b[49m]\u001b[38;5;241m.\u001b[39mhead(\u001b[38;5;241m2\u001b[39m)) \u001b[38;5;66;03m#test mmake sure it is correct\u001b[39;00m\n",
      "\u001b[1;31mNameError\u001b[0m: name 'NUMERIC_COLS' is not defined"
     ]
    }
   ],
   "source": [
    "## Data Cleaning\n",
    "\n",
    "# Divide columns so we can clean them as needed\n",
    "Num_Cols = ['discounted_price', 'actual_price', 'discount_percentage', 'rating', 'rating_count']\n",
    "Txt_Cols = ['product_name','about_product', 'user_name','review_title','review_content'] \n",
    "\n",
    "# Clean numbers\n",
    "for col in Num_Cols:\n",
    "    if col in df.columns:\n",
    "        df[col] = clean_num(df[col])\n",
    "        \n",
    "# Clean text\n",
    "for col in Txt_Cols:\n",
    "    if col in df.columns:\n",
    "        df[col] = clean_txt(df[col])\n",
    "\n",
    "print(\"Price, count, and percentage columns cleaned and converted to numeric.\")\n",
    "print(df[Num_Cols].head(2)) #test mmake sure it is correct\n"
   ]
  }
 ],
 "metadata": {
  "kernelspec": {
   "display_name": "llm_env",
   "language": "python",
   "name": "python3"
  },
  "language_info": {
   "codemirror_mode": {
    "name": "ipython",
    "version": 3
   },
   "file_extension": ".py",
   "mimetype": "text/x-python",
   "name": "python",
   "nbconvert_exporter": "python",
   "pygments_lexer": "ipython3",
   "version": "3.10.18"
  }
 },
 "nbformat": 4,
 "nbformat_minor": 5
}
